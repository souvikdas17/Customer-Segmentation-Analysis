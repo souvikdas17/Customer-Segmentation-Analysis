    "import numpy as np\n",
    "import pandas as pd\n",
    "import matplotlib.pyplot as plt\n",
    "import seaborn as sns\n",
    "from sklearn.cluster import KMeans"
    "df.head(10)"
    "df.isnull().sum()"
    "df1=df[[\"CustomerID\",\"Age\",\"Annual Income (k$)\",\"Spending Score (1-100)\"]]\n",
    "df1.corr()"
    "df2=df1[[\"Annual Income (k$)\",'Spending Score (1-100)']]\n",
    "plt.figure(figsize=(10,6))\n",
    "sns.scatterplot(x = 'Annual Income (k$)',y = 'Spending Score (1-100)',  data = df2  ,s = 60 )\n",
    "plt.xlabel('Annual Income (k$)')\n",
    "plt.ylabel('Spending Score (1-100)') \n",
    "plt.title('Spending Score (1-100) vs Annual Income (k$)')\n",
    "plt.show()"
    "sse=[] #Sum of Squared Error\n",
    "for i in range(1,11):\n",
    "    km=KMeans(n_clusters=i)\n",
    "    km.fit(df2)\n",
    "    sse.append(km.inertia_)"
    "plt.figure(figsize=(12,6))\n",
    "plt.plot(range(1,11),sse)\n",
    "plt.plot(range(1,11),sse, linewidth=2, color=\"red\")\n",
    "plt.xlabel(\"K Value\")\n",
    "plt.xticks(np.arange(1,11,1))\n",
    "plt.ylabel(\"SSE\")\n",
    "plt.show()"
    "km1=KMeans(n_clusters=5)\n",
    "km1.fit(df2)\n",
    "y=km1.predict(df2)\n",
    "df['label']=y"
    "df.head()"
    "plt.figure(figsize=(10,6))\n",
    "sns.scatterplot(x = 'Annual Income (k$)',y = 'Spending Score (1-100)',hue=\"label\",  \n",
    "                data = df  ,s = 60 )\n",
    "plt.xlabel('Annual Income (k$)')\n",
    "plt.ylabel('Spending Score (1-100)') \n",
    "plt.title('Spending Score (1-100) vs Annual Income (k$)')\n",
    "plt.show()"
    "sse=[] #Sum of Squared Error\n",
    "for i in range(1,11):\n",
    "    km2=KMeans(n_clusters=i,init=\"k-means++\")\n",
    "    km2.fit(df3)\n",
    "    sse.append(km2.inertia_)\n",
    "plt.figure(figsize=(12,6))\n",
    "plt.plot(range(1,11),sse)\n",
    "plt.plot(range(1,11),sse, linewidth=2, color=\"red\")\n",
    "plt.xlabel(\"K Value\")\n",
    "plt.xticks(np.arange(1,11,1))\n",
    "plt.ylabel(\"SSE\")\n",
    "plt.show()"
    "km2 = KMeans(n_clusters=5)\n",
    "km2.fit(df3)\n",
    "y2=km2.predict(df3)\n",
    "df[\"label\"] = y2\n",
    "df.head()"
    "fig = plt.figure(figsize=(20,10))\n",
    "ax = fig.add_subplot(111, projection='3d')\n",
    "ax.scatter(df1.Age[df1.label == 0], df1[\"Annual Income (k$)\"][df1.label == 0], df1[\"Spending Score (1-100)\"][df1.label == 0], c='purple', s=60)\n",
    "ax.scatter(df1.Age[df1.label == 1], df1[\"Annual Income (k$)\"][df1.label == 1], df1[\"Spending Score (1-100)\"][df1.label == 1], c='red', s=60)\n",
    "ax.scatter(df1.Age[df1.label == 2], df1[\"Annual Income (k$)\"][df1.label == 2], df1[\"Spending Score (1-100)\"][df1.label == 2], c='blue', s=60)\n",
    "ax.scatter(df1.Age[df1.label == 3], df1[\"Annual Income (k$)\"][df1.label == 3], df1[\"Spending Score (1-100)\"][df1.label == 3], c='green', s=60)\n",
    "ax.scatter(df1.Age[df1.label == 4], df1[\"Annual Income (k$)\"][df1.label == 4], df1[\"Spending Score (1-100)\"][df1.label == 4], c='yellow', s=60)\n",
    "ax.view_init(35, 185)\n",
    "plt.xlabel(\"Age\")\n",
    "plt.ylabel(\"Annual Income (k$)\")\n",
    "ax.set_zlabel('Spending Score (1-100)')\n",
    "plt.show()"
